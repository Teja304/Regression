{
 "cells": [
  {
   "cell_type": "code",
   "execution_count": 1,
   "id": "5369918b",
   "metadata": {},
   "outputs": [],
   "source": [
    "import pandas as pd"
   ]
  },
  {
   "cell_type": "code",
   "execution_count": 2,
   "id": "c1ccb51a",
   "metadata": {},
   "outputs": [],
   "source": [
    "df = pd.read_csv(\"D:/csvFiles/rank_salary.csv\")"
   ]
  },
  {
   "cell_type": "code",
   "execution_count": 3,
   "id": "aab4ea61",
   "metadata": {},
   "outputs": [
    {
     "data": {
      "text/html": [
       "<div>\n",
       "<style scoped>\n",
       "    .dataframe tbody tr th:only-of-type {\n",
       "        vertical-align: middle;\n",
       "    }\n",
       "\n",
       "    .dataframe tbody tr th {\n",
       "        vertical-align: top;\n",
       "    }\n",
       "\n",
       "    .dataframe thead th {\n",
       "        text-align: right;\n",
       "    }\n",
       "</style>\n",
       "<table border=\"1\" class=\"dataframe\">\n",
       "  <thead>\n",
       "    <tr style=\"text-align: right;\">\n",
       "      <th></th>\n",
       "      <th>Position</th>\n",
       "      <th>Level</th>\n",
       "      <th>Salary</th>\n",
       "    </tr>\n",
       "  </thead>\n",
       "  <tbody>\n",
       "    <tr>\n",
       "      <th>0</th>\n",
       "      <td>Teaching Assistants</td>\n",
       "      <td>1</td>\n",
       "      <td>45000</td>\n",
       "    </tr>\n",
       "    <tr>\n",
       "      <th>1</th>\n",
       "      <td>Guest Faculty</td>\n",
       "      <td>2</td>\n",
       "      <td>50000</td>\n",
       "    </tr>\n",
       "    <tr>\n",
       "      <th>2</th>\n",
       "      <td>Contractual Faculty</td>\n",
       "      <td>3</td>\n",
       "      <td>60000</td>\n",
       "    </tr>\n",
       "    <tr>\n",
       "      <th>3</th>\n",
       "      <td>Assistant Professor</td>\n",
       "      <td>4</td>\n",
       "      <td>80000</td>\n",
       "    </tr>\n",
       "    <tr>\n",
       "      <th>4</th>\n",
       "      <td>Associate Professor</td>\n",
       "      <td>5</td>\n",
       "      <td>110000</td>\n",
       "    </tr>\n",
       "  </tbody>\n",
       "</table>\n",
       "</div>"
      ],
      "text/plain": [
       "              Position  Level  Salary\n",
       "0  Teaching Assistants      1   45000\n",
       "1        Guest Faculty      2   50000\n",
       "2  Contractual Faculty      3   60000\n",
       "3  Assistant Professor      4   80000\n",
       "4  Associate Professor      5  110000"
      ]
     },
     "execution_count": 3,
     "metadata": {},
     "output_type": "execute_result"
    }
   ],
   "source": [
    "df.head()"
   ]
  },
  {
   "cell_type": "code",
   "execution_count": 4,
   "id": "db6a9816",
   "metadata": {},
   "outputs": [
    {
     "data": {
      "text/plain": [
       "(10, 3)"
      ]
     },
     "execution_count": 4,
     "metadata": {},
     "output_type": "execute_result"
    }
   ],
   "source": [
    "df.shape"
   ]
  },
  {
   "cell_type": "code",
   "execution_count": 5,
   "id": "bf6dfcca",
   "metadata": {},
   "outputs": [
    {
     "data": {
      "text/plain": [
       "<bound method DataFrame.info of               Position  Level   Salary\n",
       "0  Teaching Assistants      1    45000\n",
       "1        Guest Faculty      2    50000\n",
       "2  Contractual Faculty      3    60000\n",
       "3  Assistant Professor      4    80000\n",
       "4  Associate Professor      5   110000\n",
       "5            Professor      6   150000\n",
       "6       Associate Dean      7   200000\n",
       "7                 Dean      8   300000\n",
       "8      Vice Chancellor      9   500000\n",
       "9           Chancellor     10  1000000>"
      ]
     },
     "execution_count": 5,
     "metadata": {},
     "output_type": "execute_result"
    }
   ],
   "source": [
    "df.info"
   ]
  },
  {
   "cell_type": "code",
   "execution_count": 6,
   "id": "10982525",
   "metadata": {},
   "outputs": [
    {
     "data": {
      "text/plain": [
       "Position    0\n",
       "Level       0\n",
       "Salary      0\n",
       "dtype: int64"
      ]
     },
     "execution_count": 6,
     "metadata": {},
     "output_type": "execute_result"
    }
   ],
   "source": [
    "df.isnull().sum()"
   ]
  },
  {
   "cell_type": "code",
   "execution_count": 7,
   "id": "ed36e610",
   "metadata": {},
   "outputs": [],
   "source": [
    "x = df.iloc[:,1:2].values\n",
    "y = df.iloc[:,2:].values"
   ]
  },
  {
   "cell_type": "code",
   "execution_count": 8,
   "id": "6b23a4fd",
   "metadata": {},
   "outputs": [],
   "source": [
    "#fitting linear regression to dataset\n",
    "\n",
    "from sklearn.linear_model import LinearRegression"
   ]
  },
  {
   "cell_type": "code",
   "execution_count": 9,
   "id": "016ae224",
   "metadata": {},
   "outputs": [],
   "source": [
    "lmodel = LinearRegression()\n",
    "lmodel.fit(x, y)\n",
    "ypred = lmodel.predict(x)"
   ]
  },
  {
   "cell_type": "code",
   "execution_count": 10,
   "id": "9bab9099",
   "metadata": {},
   "outputs": [],
   "source": [
    "# Fitting Polynomial Regression to the dataset\n",
    "\n",
    "from sklearn.preprocessing import PolynomialFeatures"
   ]
  },
  {
   "cell_type": "code",
   "execution_count": 11,
   "id": "f6ca0029",
   "metadata": {},
   "outputs": [
    {
     "data": {
      "text/plain": [
       "LinearRegression()"
      ]
     },
     "execution_count": 11,
     "metadata": {},
     "output_type": "execute_result"
    }
   ],
   "source": [
    "poly = PolynomialFeatures(degree = 4)\n",
    "x_poly = poly.fit_transform(x)\n",
    "poly.fit(x_poly, y)\n",
    "\n",
    "lmodel2 = LinearRegression()\n",
    "lmodel2.fit(x_poly, y)"
   ]
  },
  {
   "cell_type": "code",
   "execution_count": 12,
   "id": "0cceb67a",
   "metadata": {},
   "outputs": [],
   "source": [
    "pred = lmodel2.predict(poly.fit_transform(x))"
   ]
  },
  {
   "cell_type": "code",
   "execution_count": 13,
   "id": "ff819b05",
   "metadata": {},
   "outputs": [],
   "source": [
    "# Visualising the Polynomial Regression results\n",
    "\n",
    "import matplotlib.pyplot as plt"
   ]
  },
  {
   "cell_type": "code",
   "execution_count": 14,
   "id": "36683925",
   "metadata": {},
   "outputs": [
    {
     "data": {
      "image/png": "[encoded data removed]",
      "text/plain": [
       "<Figure size 432x288 with 1 Axes>"
      ]
     },
     "metadata": {
      "needs_background": "light"
     },
     "output_type": "display_data"
    }
   ],
   "source": [
    "# plot of linear regression\n",
    "\n",
    "plt.scatter(x,y,color=\"red\")  \n",
    "plt.plot(x, ypred, color=\"blue\")  \n",
    "plt.title(\"Linear Regression\")  \n",
    "plt.xlabel(\"Levels\")  \n",
    "plt.ylabel(\"Salary\")  \n",
    "plt.show()"
   ]
  },
  {
   "cell_type": "code",
   "execution_count": 15,
   "id": "c6365974",
   "metadata": {},
   "outputs": [
    {
     "data": {
      "image/png": "[encoded data removed]",
      "text/plain": [
       "<Figure size 432x288 with 1 Axes>"
      ]
     },
     "metadata": {
      "needs_background": "light"
     },
     "output_type": "display_data"
    }
   ],
   "source": [
    "#plot of polynomial regression\n",
    "\n",
    "plt.scatter(x,y,color=\"red\")  \n",
    "plt.plot(x, pred, color=\"blue\")  \n",
    "plt.title(\"Polynomial Regression\")  \n",
    "plt.xlabel(\"Levels\")  \n",
    "plt.ylabel(\"Salary\")  \n",
    "plt.show()"
   ]
  },
  {
   "cell_type": "code",
   "execution_count": 16,
   "id": "2898e51c",
   "metadata": {},
   "outputs": [
    {
     "data": {
      "text/html": [
       "<div>\n",
       "<style scoped>\n",
       "    .dataframe tbody tr th:only-of-type {\n",
       "        vertical-align: middle;\n",
       "    }\n",
       "\n",
       "    .dataframe tbody tr th {\n",
       "        vertical-align: top;\n",
       "    }\n",
       "\n",
       "    .dataframe thead th {\n",
       "        text-align: right;\n",
       "    }\n",
       "</style>\n",
       "<table border=\"1\" class=\"dataframe\">\n",
       "  <thead>\n",
       "    <tr style=\"text-align: right;\">\n",
       "      <th></th>\n",
       "      <th>Pred_Salary</th>\n",
       "      <th>Pred_Poly_Salary</th>\n",
       "    </tr>\n",
       "  </thead>\n",
       "  <tbody>\n",
       "    <tr>\n",
       "      <th>0</th>\n",
       "      <td>-114454</td>\n",
       "      <td>53356</td>\n",
       "    </tr>\n",
       "    <tr>\n",
       "      <th>1</th>\n",
       "      <td>-33575</td>\n",
       "      <td>31759</td>\n",
       "    </tr>\n",
       "    <tr>\n",
       "      <th>2</th>\n",
       "      <td>47303</td>\n",
       "      <td>58642</td>\n",
       "    </tr>\n",
       "    <tr>\n",
       "      <th>3</th>\n",
       "      <td>128181</td>\n",
       "      <td>94632</td>\n",
       "    </tr>\n",
       "    <tr>\n",
       "      <th>4</th>\n",
       "      <td>209060</td>\n",
       "      <td>121724</td>\n",
       "    </tr>\n",
       "    <tr>\n",
       "      <th>5</th>\n",
       "      <td>289939</td>\n",
       "      <td>143275</td>\n",
       "    </tr>\n",
       "    <tr>\n",
       "      <th>6</th>\n",
       "      <td>370818</td>\n",
       "      <td>184003</td>\n",
       "    </tr>\n",
       "    <tr>\n",
       "      <th>7</th>\n",
       "      <td>451696</td>\n",
       "      <td>289994</td>\n",
       "    </tr>\n",
       "    <tr>\n",
       "      <th>8</th>\n",
       "      <td>532575</td>\n",
       "      <td>528694</td>\n",
       "    </tr>\n",
       "    <tr>\n",
       "      <th>9</th>\n",
       "      <td>613454</td>\n",
       "      <td>988916</td>\n",
       "    </tr>\n",
       "  </tbody>\n",
       "</table>\n",
       "</div>"
      ],
      "text/plain": [
       "   Pred_Salary  Pred_Poly_Salary\n",
       "0      -114454             53356\n",
       "1       -33575             31759\n",
       "2        47303             58642\n",
       "3       128181             94632\n",
       "4       209060            121724\n",
       "5       289939            143275\n",
       "6       370818            184003\n",
       "7       451696            289994\n",
       "8       532575            528694\n",
       "9       613454            988916"
      ]
     },
     "execution_count": 16,
     "metadata": {},
     "output_type": "execute_result"
    }
   ],
   "source": [
    "pred_lin_df= pd.DataFrame(ypred, columns=['Pred_Salary'])\n",
    "pred_lin_df['Pred_Salary']= pred_lin_df['Pred_Salary'].astype(int)\n",
    "\n",
    "pred_poly_df= pd.DataFrame(pred, columns=['Pred_Poly_Salary'])\n",
    "pred_poly_df['Pred_Poly_Salary']= pred_poly_df['Pred_Poly_Salary'].astype(int)\n",
    "\n",
    "pred_df = pd.concat([pred_lin_df, pred_poly_df], axis=1, join='inner')\n",
    "pred_df"
   ]
  },
  {
   "cell_type": "code",
   "execution_count": null,
   "id": "c1b77e80",
   "metadata": {},
   "outputs": [],
   "source": []
  }
 ],
 "metadata": {
  "kernelspec": {
   "display_name": "Python 3",
   "language": "python",
   "name": "python3"
  },
  "language_info": {
   "codemirror_mode": {
    "name": "ipython",
    "version": 3
   },
   "file_extension": ".py",
   "mimetype": "text/x-python",
   "name": "python",
   "nbconvert_exporter": "python",
   "pygments_lexer": "ipython3",
   "version": "3.8.8"
  }
 },
 "nbformat": 4,
 "nbformat_minor": 5
}
